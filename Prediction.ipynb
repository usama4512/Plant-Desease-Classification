{
 "cells": [
  {
   "cell_type": "code",
   "execution_count": null,
   "metadata": {
    "scrolled": true
   },
   "outputs": [
    {
     "name": "stdout",
     "output_type": "stream",
     "text": [
      "(480, 640, 3)\n",
      "[1]\n"
     ]
    }
   ],
   "source": [
    "import cv2 \n",
    "import tensorflow as tf\n",
    "import tensorflow_hub as hub\n",
    "import numpy as np\n",
    
    "\n",
    "model = tf.keras.models.load_model('plant.h5',custom_objects={'KerasLayer':hub.KerasLayer})\n",
    "\n",
    "\n",
    "key = cv2. waitKey(1)\n",
    "webcam = cv2.VideoCapture(0)\n",
    "\n",
    "def scale(image):\n",
    "    image=tf.cast(image,tf.float32)\n",
    "    image/=255.0\n",
    "\n",
    "    return tf.image.resize(image,[224,224])\n",
    "\n",
    "def decode_img(image):\n",
    "    image = tf.cast(image, tf.float32)\n",
    "    image=scale(image)\n",
    "    return np.expand_dims(image,axis=0)\n",
    "\n",
    "classes=['Angular Leaf Spot','Bean Rust','healthy']\n",
    "while True:\n",
    "    try:\n",
    "        check, frame = webcam.read()\n",
    "        cv2.imshow(\"Capturing\", frame)\n",
    "        key = cv2.waitKey(1)\n",
    "        if key == ord('s'): \n",
    "            cv2.imwrite(filename='saved_img.jpg', img=frame)\n",
    "#             webcam.release()\n",
    "            image = cv2.imread('saved_img.jpg')\n",
    "\n",
    "            print(image.shape)\n",
    "\n",
    "            label=np.argmax(model.predict(decode_img(image)),axis=1)\n",
    "            a=model.predict(decode_img(image))\n",
    "            print(a)\n",
    "            \n",
    "            print(label)\n",
    "            \n",
    "            font = cv2.FONT_HERSHEY_SIMPLEX\n",
    "            image = cv2.putText(image, classes[label[0]], (50, 50), font, 1, (255, 0, 0), 2, cv2.LINE_AA) \n",
    "            img_new = cv2.imshow(\"Captured Image\", image)\n",
    "            \n",
    "            \n",
    "\n",
    "            \n",
    "            cv2.waitKey(1650)\n",
    "            cv2.destroyWindow(img_new)\n",
    "\n",
    "            \n",
    "        elif key == ord('q'):\n",
    "            print(\"Turning off camera.\")\n",
    "            webcam.release()\n",
    "            print(\"Camera off.\")\n",
    "            print(\"Program ended.\")\n",
    "            cv2.destroyAllWindows()\n",
    "            break\n",
    "        \n",
    "    except(KeyboardInterrupt):\n",
    "        print(\"Turning off camera.\")\n",
    "        webcam.release()\n",
    "        print(\"Camera off.\")\n",
    "        print(\"Program ended.\")\n",
    "        cv2.destroyAllWindows()\n",
    "        break\n"
   ]
  },
  {
   "cell_type": "code",
   "execution_count": null,
   "metadata": {},
   "outputs": [],
   "source": []
  }
 ],
 "metadata": {
  "kernelspec": {
   "display_name": "Python 3",
   "language": "python",
   "name": "python3"
  },
  "language_info": {
   "codemirror_mode": {
    "name": "ipython",
    "version": 3
   },
   "file_extension": ".py",
   "mimetype": "text/x-python",
   "name": "python",
   "nbconvert_exporter": "python",
   "pygments_lexer": "ipython3",
   "version": "3.7.6"
  }
 },
 "nbformat": 4,
 "nbformat_minor": 4
}
